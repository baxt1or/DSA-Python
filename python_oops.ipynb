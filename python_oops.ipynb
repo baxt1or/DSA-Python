{
 "cells": [
  {
   "cell_type": "code",
   "execution_count": 21,
   "metadata": {},
   "outputs": [
    {
     "name": "stdout",
     "output_type": "stream",
     "text": [
      "Student are in the list: 2\n"
     ]
    }
   ],
   "source": [
    "class Student:\n",
    "    name :str\n",
    "    age : int\n",
    "\n",
    "    def __init__(self, name, age, grade):\n",
    "        self.name = name\n",
    "        self.age = age\n",
    "        self.grade = grade\n",
    "    \n",
    "\n",
    "    def display_student_details(self):\n",
    "        print(f\"Student's name is {self.name} ,age is {self.age} and grade {self.grade}\")\n",
    "\n",
    "\n",
    "class Course:\n",
    "\n",
    "    number_of_students = 0\n",
    "\n",
    "    def __init__(self, title, max_student_number):\n",
    "        self.title = title \n",
    "        self.max_student_number = max_student_number\n",
    "        self.students = []\n",
    "    \n",
    "    def add_student(self, student):\n",
    "        if len(self.students) < self.max_student_number:\n",
    "            self.students.append(student)\n",
    "            self.number_of_students+=1\n",
    "            return True\n",
    "        return False\n",
    "\n",
    "    def count_students(self):\n",
    "        print(f\"Student are in the list: {self.number_of_students}\")\n",
    "    \n",
    "    def total_grades(self):\n",
    "        total_number =0\n",
    "        for s in self.students:\n",
    "            total_number+=s.grade\n",
    "        return total_number\n",
    "\n",
    "    \n",
    "student = Student(\"Alex\", 12,47)\n",
    "student2 = Student(\"Munisa\", 234, 44)\n",
    "\n",
    "course = Course(\"Math\",5)\n",
    "\n",
    "course.add_student(student)\n",
    "course.add_student(student2)\n",
    "course.total_grades()\n",
    "\n",
    "course.count_students()\n"
   ]
  },
  {
   "cell_type": "code",
   "execution_count": 2,
   "metadata": {},
   "outputs": [
    {
     "data": {
      "text/plain": [
       "<__main__.ToDoList at 0x2c0c8bb9f70>"
      ]
     },
     "execution_count": 2,
     "metadata": {},
     "output_type": "execute_result"
    }
   ],
   "source": [
    "\n",
    "class Task:\n",
    "    STATUS_CHOICES = (\"not_started\",\"processing\",\"completed\")\n",
    "    def __init__(self,id, name, content, status):\n",
    "        self.id = id\n",
    "        self.name = name\n",
    "        self.content = content\n",
    "        if status in self.STATUS_CHOICES:\n",
    "            self.status = status\n",
    "        else:\n",
    "            raise ValueError(f'Invalid Status Choice')\n",
    "\n",
    "\n",
    "class ToDoList:\n",
    "\n",
    "    def __init__(self, max_todos_list):\n",
    "        self.todos = []\n",
    "        self.max_todos_list = max_todos_list\n",
    "\n",
    "    def add_todo(self, todo):\n",
    "        if len(self.todos) < self.max_todos_list:\n",
    "            self.todos.append(todo)\n",
    "            return True\n",
    "        return False\n",
    "        \n",
    "\n",
    "    def remove_todo(self, todo_id):\n",
    "        for i, todo in enumerate(self.todos):\n",
    "            if todo.id == todo_id:\n",
    "                self.todos.pop(i)\n",
    "                return True\n",
    "        return False\n",
    "        \n",
    "\n",
    "    def mark_status(self, todo_id, change_status):\n",
    "        for todo  in self.todos:\n",
    "            if todo.id == todo_id:\n",
    "                todo.status = change_status\n",
    "                return True\n",
    "        return False\n",
    "\n",
    "    def list_tasks(self):\n",
    "        return [x for x in self.todos if x.status != \"completed\"]\n",
    "    \n",
    "    def __str__(self) -> str:\n",
    "        return f\"My Todos: {self.todos}\"\n",
    "    \n",
    "\n",
    "\n",
    "\n",
    "\n",
    "todo_1 = Task(1, \"Calculus I\",\"Integrals\", \"not_started\")\n",
    "todo_2 = Task(2, \"Calculus II\",\"Derivatives\", \"not_started\")\n",
    "todo_3 = Task(3, \"Linear Algebra\",\"Integrals\", \"processing\")\n",
    "todo_4 = Task(4, \"Statistics and Probability\",\"Normal Distribution\", \"completed\")\n",
    "\n",
    "todos = ToDoList(10)\n",
    "todos.add_todo(todo_1)\n",
    "todos.add_todo(todo_2)\n",
    "todos.add_todo(todo_3)\n",
    "todos.add_todo(todo_4)\n",
    "\n",
    "todos.mark_status(4, \"not_started\")\n",
    "todos.remove_todo(1)\n",
    "\n",
    "for i in todos.list_tasks():\n",
    "    print(i.name)\n",
    "\n"
   ]
  },
  {
   "cell_type": "code",
   "execution_count": 13,
   "metadata": {},
   "outputs": [
    {
     "data": {
      "text/plain": [
       "'Unathorized'"
      ]
     },
     "execution_count": 13,
     "metadata": {},
     "output_type": "execute_result"
    }
   ],
   "source": [
    "from typing import Any\n",
    "\n",
    "\n",
    "class Employee:\n",
    "    def __init__(self, id, name,salary, department):\n",
    "        self.id = id\n",
    "        self.name = name \n",
    "        self.salary = salary \n",
    "        self.department = department\n",
    "\n",
    "class Manager:\n",
    "    def __init__(self, id):\n",
    "        self._id = id\n",
    "    \n",
    "    @property\n",
    "    def get_id(self):\n",
    "        return self._id\n",
    "\n",
    "\n",
    "class Department:\n",
    "    def __init__(self):\n",
    "        self.managers = []\n",
    "        self.employees = []\n",
    "    def add_manger(self, manager):\n",
    "        self.managers.append(manager)\n",
    "        return f\"Successfully added manger with id: {manager.id}\"\n",
    "    \n",
    "    def add_employee(self, id, employee):\n",
    "        \n",
    "        for manager in self.managers:\n",
    "            if manager.id == id:\n",
    "               self.employees.append(employee)\n",
    "               return \"Successfully Added\"\n",
    "        \n",
    "        return \"Unathorized\"\n",
    "    \n",
    "    def get_all_employee(self):\n",
    "        return [(x.name, x.salary, x.department) for x in self.employees]\n",
    "    \n",
    "    def delete_employee(self, manager_id, id):\n",
    "        for manager in self.managers:\n",
    "            if manager.id == manager_id:\n",
    "                for i, empl in enumerate(self.employees):\n",
    "                   if empl.id == id:\n",
    "                       self.employees.pop(i)\n",
    "                       return f\"Successfully removed employee with id number: {emp.id}\"\n",
    "                return \"Not Found\"\n",
    "        return \"Unathorized\"\n",
    "    \n",
    "\n",
    "\n",
    "emp = Employee(1, \"Alex Smith\", 1281, \"Python Django\")\n",
    "emp2 = Employee(3, \"Jonh Tom\", 12433, \"ML\")\n",
    "manger = Manager(5)\n",
    "\n",
    "department = Department()\n",
    "department.add_manger(manager=manger)\n",
    "department.add_employee(5, emp)\n",
    "department.get_all_employee()\n",
    "department.delete_employee(6, 5)\n",
    "        \n",
    "             "
   ]
  },
  {
   "cell_type": "code",
   "execution_count": 18,
   "metadata": {},
   "outputs": [
    {
     "data": {
      "text/plain": [
       "'Tom'"
      ]
     },
     "execution_count": 18,
     "metadata": {},
     "output_type": "execute_result"
    }
   ],
   "source": [
    "class Person:\n",
    "    def __init__(self, id, name, occupation):\n",
    "        self._id = id\n",
    "        self._name = name \n",
    "        self._occupation = occupation\n",
    "    \n",
    "    @property\n",
    "    def id(self):\n",
    "        return self._id\n",
    "    \n",
    "    @id.setter\n",
    "    def id(self, value):\n",
    "        if isinstance(value, str) and value:\n",
    "            self._id = value\n",
    "        else:\n",
    "            raise ValueError(\"Id has to be non-empty string\")\n",
    "    \n",
    "    @property\n",
    "    def name(self):\n",
    "        return self._name\n",
    "    \n",
    "    @name.setter\n",
    "    def name(self, value):\n",
    "        if isinstance(value, str) and value:\n",
    "            self._name = value\n",
    "        else:\n",
    "            raise ValueError(\"Name has be non-empty string\")\n",
    "\n",
    "\n",
    "    \n",
    "\n",
    "person = Person(\"1\", \"Alex\", \"Data Scientist\")\n",
    "\n",
    "person.name = \"Tom\"\n",
    "person.name\n"
   ]
  },
  {
   "cell_type": "code",
   "execution_count": null,
   "metadata": {},
   "outputs": [],
   "source": [
    "# Challenge 6 Animal Shelter System\n",
    "\n",
    "class Animal:\n",
    "    def __init__(self, name, age, is_admitted = False) -> None:\n",
    "        self.id = id\n",
    "        self.name = name \n",
    "        self.age = age\n",
    "        self.is_admitted = is_admitted\n",
    "\n",
    "\n",
    "class Dog(Animal):\n",
    "    def __init_subclass__(cls) -> None:\n",
    "        return super().__init_subclass__()\n",
    "\n",
    "class Cat(Animal):\n",
    "    def __init_subclass__(cls) -> None:\n",
    "        return super().__init_subclass__()\n",
    "\n",
    "\n",
    "class Zoo:\n",
    "    def __init__(self, title):\n",
    "        pass"
   ]
  },
  {
   "cell_type": "code",
   "execution_count": 23,
   "metadata": {},
   "outputs": [
    {
     "name": "stdout",
     "output_type": "stream",
     "text": [
      "[2, 11, 12, 76, 343]\n"
     ]
    }
   ],
   "source": [
    "def bubble_sort(nums):\n",
    "    swaped = True\n",
    "    while swaped:\n",
    "        swaped = False\n",
    "        for i in range(len(nums)-1):\n",
    "            if nums[i] > nums[i+1]:\n",
    "                nums[i], nums[i+1] = nums[i+1], nums[i]\n",
    "                swaped =True\n",
    "\n",
    "nums = [76,343,11,2, 12]\n",
    "bubble_sort(nums=nums)\n",
    "print(nums)\n"
   ]
  },
  {
   "cell_type": "code",
   "execution_count": 19,
   "metadata": {},
   "outputs": [
    {
     "data": {
      "text/plain": [
       "True"
      ]
     },
     "execution_count": 19,
     "metadata": {},
     "output_type": "execute_result"
    }
   ],
   "source": [
    "def is_balanced(s):\n",
    "    stack = []\n",
    "    # Mapping of closing brackets to their corresponding opening brackets\n",
    "    matching_bracket = {')': '(', '}': '{', ']': '['}\n",
    "\n",
    "    for char in s:\n",
    "        if char in '({[':\n",
    "            stack.append(char)\n",
    "        elif char in ')}]':\n",
    "            if len(stack) == 0 or stack.pop() != matching_bracket[char]:\n",
    "                return False\n",
    "\n",
    "    # If the stack is empty, all brackets were matched; otherwise, it's unbalanced\n",
    "    return len(stack) == 0\n",
    "\n",
    "\n",
    "s = \"()[]{}\"\n",
    "\n",
    "is_balanced(s)\n"
   ]
  },
  {
   "cell_type": "code",
   "execution_count": 54,
   "metadata": {},
   "outputs": [
    {
     "name": "stdout",
     "output_type": "stream",
     "text": [
      "['o', 'l', 'l', 'e', 'h']\n"
     ]
    }
   ],
   "source": [
    "from typing import List\n",
    "class Solution:\n",
    "    def reverseString(self, s: List[str]) -> None:\n",
    "        \"\"\"\n",
    "        Do not return anything, modify s in-place instead.\n",
    "        \"\"\"\n",
    "        stack = []\n",
    "        for char in s:\n",
    "            stack.append(char)\n",
    "        \n",
    "        for i in range(len(stack)):\n",
    "            s[i] = stack.pop()\n",
    "\n",
    "       \n",
    "        \n",
    "sol = Solution()\n",
    "s = [\"h\",\"e\",\"l\",\"l\",\"o\"]\n",
    "sol.reverseString(s)\n",
    "print(s)"
   ]
  },
  {
   "cell_type": "code",
   "execution_count": 29,
   "metadata": {},
   "outputs": [
    {
     "name": "stdout",
     "output_type": "stream",
     "text": [
      "['o', 'l', 'l', 'e', 'H']\n"
     ]
    }
   ],
   "source": [
    "str = \"Hello\"\n",
    "\n",
    "def reverse(s):\n",
    "    stack = []\n",
    "\n",
    "    for char in s:\n",
    "        stack.append(char)\n",
    "\n",
    "    ans = []\n",
    "    while not len(stack)==0:\n",
    "        ans+=stack.pop()\n",
    "    return ans\n",
    "\n",
    "print(reverse(str))"
   ]
  },
  {
   "cell_type": "code",
   "execution_count": 55,
   "metadata": {},
   "outputs": [
    {
     "name": "stdout",
     "output_type": "stream",
     "text": [
      "-5\n"
     ]
    }
   ],
   "source": [
    "class MinStack:\n",
    "\n",
    "    def __init__(self):\n",
    "        self.stack = []\n",
    "        \n",
    "\n",
    "    def push(self, val: int) -> None:\n",
    "        self.stack.append(val)\n",
    "        \n",
    "\n",
    "    def pop(self) -> None:\n",
    "        if len(self.stack) ==0:\n",
    "            return False\n",
    "        else:\n",
    "            return self.stack.pop()\n",
    "    \n",
    "    def getMin(self):\n",
    "        return min(self.stack)\n",
    "\n",
    "min_str = MinStack() \n",
    "\n",
    "min_str.push(0)\n",
    "min_str.push(-5)\n",
    "min_str.push(-4)\n",
    "\n",
    "print(min_str.getMin())"
   ]
  },
  {
   "cell_type": "code",
   "execution_count": 58,
   "metadata": {},
   "outputs": [
    {
     "name": "stdout",
     "output_type": "stream",
     "text": [
      "Error None\n"
     ]
    }
   ],
   "source": [
    "class MinStack:\n",
    "\n",
    "    def __init__(self):\n",
    "        self.stack = []\n",
    "        \n",
    "\n",
    "    def push(self, val: int) -> None:\n",
    "        self.stack.append(val)\n",
    "        \n",
    "    def pop(self) -> None:\n",
    "        if len(self.stack) != 0:\n",
    "            return self.stack.pop()\n",
    "        else:\n",
    "            raise IndexError(\"Invalid\")\n",
    "        \n",
    "    def top(self) -> int:\n",
    "        if len(self.stack) != 0:\n",
    "            return self.stack[-1]\n",
    "        else:\n",
    "            return IndexError(\"Error\")\n",
    "        \n",
    "    def getMin(self) -> int:\n",
    "        if len(self.stack) != 0:\n",
    "            return min(self.stack)\n",
    "        \n",
    "\n",
    "\n",
    "# Your MinStack object will be instantiated and called as such:\n",
    "obj = MinStack()\n",
    "obj.push(-1)\n",
    "obj.pop()\n",
    "param_3 = obj.top()\n",
    "param_4 = obj.getMin()\n",
    "print(param_3, param_4)"
   ]
  },
  {
   "cell_type": "code",
   "execution_count": 64,
   "metadata": {},
   "outputs": [
    {
     "name": "stdout",
     "output_type": "stream",
     "text": [
      "1\n",
      "1\n"
     ]
    }
   ],
   "source": [
    "class MyQueue:\n",
    "\n",
    "    def __init__(self):\n",
    "        self.stack = []\n",
    "        \n",
    "\n",
    "    def push(self, x: int) -> None:\n",
    "        return self.stack.append(x)\n",
    "        \n",
    "\n",
    "    def pop(self) -> int:\n",
    "        if len(self.stack) != 0:\n",
    "            return self.stack.pop(0)\n",
    "        else:\n",
    "            raise IndexError(\"Error\")\n",
    "        \n",
    "\n",
    "    def peek(self) -> int:\n",
    "        if len(self.stack) == 0:\n",
    "            raise IndexError(\"Error\")\n",
    "        else:\n",
    "            return self.stack[0]\n",
    "        \n",
    "    def empty(self) -> bool:\n",
    "        if len(self.stack) ==0:\n",
    "            return True\n",
    "        return False\n",
    "        \n",
    "\n",
    "\n",
    "# Your MyQueue object will be instantiated and called as such:\n",
    "obj = MyQueue()\n",
    "obj.push(1)\n",
    "obj.push(2)\n",
    "print(obj.peek())\n",
    "print(obj.pop())"
   ]
  },
  {
   "cell_type": "code",
   "execution_count": 65,
   "metadata": {},
   "outputs": [
    {
     "name": "stdout",
     "output_type": "stream",
     "text": [
      "[1, 2, 4, 5]\n"
     ]
    }
   ],
   "source": [
    "class MyStack:\n",
    "\n",
    "    def __init__(self):\n",
    "        self.queue = []\n",
    "        \n",
    "    def push(self, x: int) -> None:\n",
    "        # Pushes element x to the top of the stack.\n",
    "        return self.queue.append(x)\n",
    "        \n",
    "\n",
    "    def pop(self) -> int:\n",
    "        # Removes the element on the top of the stack and returns it.\n",
    "        if len(self.queue) != 0:\n",
    "            return self.queue.pop()\n",
    "        else:\n",
    "            raise IndexError(\"Empty Queue\")\n",
    "        \n",
    "    def top(self) -> int:\n",
    "        # Returns the element on the top of the stack.\n",
    "        if len(self.queue) != 0:\n",
    "            return self.queue[-1]\n",
    "        else:\n",
    "            raise IndexError(\"Empty Queue\")\n",
    "        \n",
    "    def empty(self) -> bool:\n",
    "        if len(self.queue) ==0:\n",
    "            return True\n",
    "        return False\n",
    "\n",
    "\n",
    "arr = [1,2,4]\n",
    "arr.append(5)\n",
    "print(arr)"
   ]
  },
  {
   "cell_type": "code",
   "execution_count": 8,
   "metadata": {},
   "outputs": [
    {
     "name": "stdout",
     "output_type": "stream",
     "text": [
      "0\n"
     ]
    }
   ],
   "source": [
    "class Solution:\n",
    "    def reverse(self, x: int) -> int:\n",
    "        INT_MIN, INT_MAX = -2**31, 2**31 - 1\n",
    "\n",
    "        sign = -1 if x < 0 else 1\n",
    "        reversed_str = str(abs(x))[::-1]\n",
    "        reversed_int = sign * int(reversed_str)\n",
    "\n",
    "        if reversed_int < INT_MIN or reversed_int > INT_MAX:\n",
    "            return 0\n",
    "        \n",
    "        return reversed_int\n",
    "    \n",
    "    \n",
    "sol = Solution()\n",
    "x =1534236469\n",
    "print(sol.reverse(x))"
   ]
  },
  {
   "cell_type": "code",
   "execution_count": 4,
   "metadata": {},
   "outputs": [
    {
     "data": {
      "text/plain": [
       "3"
      ]
     },
     "execution_count": 4,
     "metadata": {},
     "output_type": "execute_result"
    }
   ],
   "source": [
    "from typing import List\n",
    "\n",
    "def is_duplicated(s):\n",
    "   \n",
    "    for i in range(len(s)):\n",
    "       for j in range(i+1, len(s)-1):\n",
    "          if s[i]==s[j]:\n",
    "            return True\n",
    "    return False\n",
    "\n",
    "def remove_duplicates(s):\n",
    "\n",
    "    count = 0\n",
    "    seen = set()\n",
    "    ans = []\n",
    "\n",
    "    for char in s:\n",
    "      if not char in seen:\n",
    "        seen.add(char)\n",
    "        ans.append(char)\n",
    "        count+=1\n",
    "    return count\n",
    "\n",
    "class Solution:\n",
    "    def removeElement(self, nums: List[int], val: int) -> int:\n",
    "        index = 0\n",
    "        for i in range(len(nums)):\n",
    "           if nums[i] == val:\n",
    "              nums[i] = index\n",
    "              index +=1\n",
    "        return index\n",
    "      \n",
    "\n",
    "    def removeDuplicates(self, nums: List[int]) -> int:\n",
    "        index = 1\n",
    "        for i in range(1, len(nums)-1):\n",
    "           if nums[i] == nums[i+1]:\n",
    "              nums[index] = nums[i]\n",
    "              index +=1\n",
    "        return index\n",
    "    \n",
    "    def multiply(self, num1: str, num2: str) -> str:\n",
    "       n1 = int(num1)\n",
    "       n2 = int(num2)\n",
    "       result = n1 *n2\n",
    "       return str(result)\n",
    "          \n",
    "    \n",
    "            \n",
    "sol = Solution()\n",
    "\n",
    "num1 = \"2\"\n",
    "num2 = \"3\"\n",
    "\n",
    "n = 123\n",
    "\n",
    "digit = n % 10\n",
    "\n",
    "digit"
   ]
  },
  {
   "cell_type": "code",
   "execution_count": 23,
   "metadata": {},
   "outputs": [
    {
     "name": "stdout",
     "output_type": "stream",
     "text": [
      "[1, 2, 4]\n"
     ]
    }
   ],
   "source": [
    "def lengthOfLastWord(self, s: str) -> int:\n",
    "    result = s.strip().split()\n",
    "    return len(result[-1])\n",
    "\n",
    "def plusOne(self, digits: List[int]) -> List[int]:\n",
    "    result = \"\".join(map(str, digits))\n",
    "    num = int(result)+1\n",
    "    return [int(x) for x in str(num)] \n",
    "\n",
    "digits = [1,2,3]\n",
    "print(plusOne(digits))"
   ]
  },
  {
   "cell_type": "code",
   "execution_count": 12,
   "metadata": {},
   "outputs": [
    {
     "name": "stdout",
     "output_type": "stream",
     "text": [
      "['Hello', 'world', 'this', 'is', 'a', 'test']\n"
     ]
    }
   ],
   "source": [
    "s = \"   Hello world this is a test   \"\n",
    "result = s.split()\n",
    "print(result) "
   ]
  },
  {
   "cell_type": "code",
   "execution_count": null,
   "metadata": {},
   "outputs": [],
   "source": [
    "# Library Management System\n",
    "\n",
    "class Book:\n",
    "    def __init__(self, id, title, author, is_avaliable, year_publication):\n",
    "        self.id = id\n",
    "        self.title = title\n",
    "        self.author = author\n",
    "        self.is_avaliable = is_avaliable\n",
    "        self.year_publication = year_publication\n",
    "\n",
    "    def display(self):\n",
    "        return {\"id\":self.id, \"title\":self.title, \"author\":self.author}\n",
    "    \n",
    "\n",
    "class User:\n",
    "    def __init__(self, id, name, email, password) -> None:\n",
    "        self.id = id\n",
    "        self.name = name\n",
    "        self.email = email\n",
    "        self.password = password\n",
    "    \n",
    "    \n",
    "\n",
    "\n",
    "class Member(User):\n",
    "    def __init__(self, id, name, email, password, status) -> None:\n",
    "        super().__init__(id, name, email, password)\n",
    "        self.status = status\n",
    "\n",
    "\n",
    "class Library:\n",
    "    def __init__(self, name, order) -> None:\n",
    "        self.name = name\n",
    "        self.order = order\n",
    "        self.members = []\n",
    "        self.books = []\n",
    "    \n",
    "    def create_book(self, book):\n",
    "        self.books.append(book)\n",
    "    \n",
    "    def lend_book(self, member_id, book):\n",
    "        for member in self.members:\n",
    "            if member.id == member_id:\n",
    "                for book in self.books:\n",
    "                    if book.id == book.id:\n",
    "                        book.is_avaliable = False\n",
    "                        return f\"Successfully Borrowed\"\n",
    "                    return f\"Book is not avaliable now\"\n",
    "                return f\"Not Found\"\n",
    "            \n",
    "        return f\"Unauthorized Member\" \n",
    "    \n",
    "    def taken_books(self):\n",
    "        for book in self.books:\n",
    "            if book.is_avaliable == False:\n",
    "                return book\n",
    "        return f\"Store is empty\"\n",
    "    \n",
    "    \n",
    "    def avaliable_books(self):\n",
    "        for book in self.books:\n",
    "            if book.is_avaliable == True:\n",
    "                return book\n",
    "        return f\"Store is empty\"\n",
    "    \n",
    "    def __str__(self) -> str:\n",
    "        return self.books\n",
    "        \n",
    "    \n",
    "\n",
    "book = Book(1, \"Alex\", \"Smith\", True, 123)\n",
    "book1 = Book(2, \"Munisa\", \"Smith\", True, 123)\n",
    "book2 = Book(3, \"Rustan\", \"Smith\", True, 123)\n",
    "book3 = Book(4, \"Mindset\", \"Smith\", True, 123)\n",
    "book4 = Book(5, \"Bazaar\", \"Smith\", True, 123)\n",
    "\n",
    "\n",
    "library = Library(\"Yunisobod\", 1)\n",
    "library.create_book(book)\n",
    "library.create_book(book1)\n",
    "library.create_book(book2)\n",
    "library.create_book(book3)\n",
    "library.create_book(book4)\n",
    "\n",
    "for book in  library.avaliable_books():\n",
    "    book.display()"
   ]
  }
 ],
 "metadata": {
  "kernelspec": {
   "display_name": "base",
   "language": "python",
   "name": "python3"
  },
  "language_info": {
   "codemirror_mode": {
    "name": "ipython",
    "version": 3
   },
   "file_extension": ".py",
   "mimetype": "text/x-python",
   "name": "python",
   "nbconvert_exporter": "python",
   "pygments_lexer": "ipython3",
   "version": "3.12.4"
  }
 },
 "nbformat": 4,
 "nbformat_minor": 2
}
