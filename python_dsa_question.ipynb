{
 "cells": [
  {
   "cell_type": "markdown",
   "metadata": {},
   "source": [
    "#### 1.Question: Given an array nums, write a function to move all 0's to the end of it while maintaining the relative order of the non-zero elements.\n"
   ]
  },
  {
   "cell_type": "code",
   "execution_count": 2,
   "metadata": {},
   "outputs": [],
   "source": [
    "from typing import List\n",
    "from collections import Counter\n",
    "import pandas  as pd\n",
    "import numpy as np"
   ]
  },
  {
   "cell_type": "code",
   "execution_count": 181,
   "metadata": {},
   "outputs": [
    {
     "name": "stdout",
     "output_type": "stream",
     "text": [
      "5\n"
     ]
    },
    {
     "data": {
      "text/plain": [
       "[12, 35, 3, 5, 7, 0]"
      ]
     },
     "execution_count": 181,
     "metadata": {},
     "output_type": "execute_result"
    }
   ],
   "source": [
    "def move_zeros(nums):\n",
    "    position = 0\n",
    "    for i in nums:\n",
    "        if  i != 0:\n",
    "            nums[position] = i\n",
    "            position+=1\n",
    "    print(position)\n",
    "    for i in range(position, len(nums)):\n",
    "        nums[i] = 0\n",
    "    \n",
    "nums = [12,35,0,3,5,7]\n",
    "\n",
    "move_zeros(nums=nums)\n",
    "\n",
    "nums"
   ]
  },
  {
   "cell_type": "markdown",
   "metadata": {},
   "source": [
    "#### 2.Question: Write a function that checks if a given word is a palindrome"
   ]
  },
  {
   "cell_type": "code",
   "execution_count": 11,
   "metadata": {},
   "outputs": [
    {
     "name": "stdout",
     "output_type": "stream",
     "text": [
      "True\n"
     ]
    }
   ],
   "source": [
    "def is_palindrome(str):\n",
    "    return str == str[::-1]\n",
    "\n",
    "str = \"aba\"\n",
    "print(is_palindrome(str=str))"
   ]
  },
  {
   "cell_type": "markdown",
   "metadata": {},
   "source": [
    "#### 3.Question: How can you remove duplicates from a list?"
   ]
  },
  {
   "cell_type": "code",
   "execution_count": 24,
   "metadata": {},
   "outputs": [
    {
     "name": "stdout",
     "output_type": "stream",
     "text": [
      "[1, 1, 2, 2, 31]\n"
     ]
    }
   ],
   "source": [
    "# def remove_duplicates(arr):\n",
    "#     l, r = 0, len(arr)-1\n",
    "\n",
    "#     while l <r:\n",
    "#         if arr[l] != arr[r]:\n",
    "#             return arr\n",
    "#     return False\n",
    "\n",
    "def remove_duplicates(arr_a):\n",
    "    arr = sorted(arr_a)\n",
    "    for i in range(0, len(arr)-1):\n",
    "        if arr[i] != arr[i+1]:\n",
    "            return arr\n",
    "    \n",
    "\n",
    "nums = [1,2,31,1,2]\n",
    "print(remove_duplicates(nums))"
   ]
  },
  {
   "cell_type": "code",
   "execution_count": 15,
   "metadata": {},
   "outputs": [
    {
     "name": "stdout",
     "output_type": "stream",
     "text": [
      "174\n"
     ]
    }
   ],
   "source": [
    "sales = \"10, unknown, unknown,   24, 45, 95\"\n",
    "\n",
    "def get_total_sales(s):\n",
    "    my_sales = s.replace(\",\",\"\").replace(\"unknown\", \"0\").split()\n",
    "    total = 0\n",
    "    for i in my_sales:\n",
    "        try:\n",
    "            total += int(i)\n",
    "        except ValueError:\n",
    "            print(\"Error\")\n",
    "    return total\n",
    "    \n",
    "\n",
    "print(get_total_sales(sales))"
   ]
  },
  {
   "cell_type": "code",
   "execution_count": 95,
   "metadata": {},
   "outputs": [
    {
     "name": "stdout",
     "output_type": "stream",
     "text": [
      "('abcdefg',)\n"
     ]
    }
   ],
   "source": [
    "class Solution:\n",
    "    def isPalindrome(self, x: int) -> bool:\n",
    "        x_str = str(x)\n",
    "        return True if x_str == x_str[::-1] else False\n",
    "    \n",
    "    def searchRange(self, nums: List[int], target: int) -> List[int]:\n",
    "        \n",
    "        start, end = -1,-1\n",
    "\n",
    "        for i in range(len(nums)):\n",
    "            if nums[i] == target:\n",
    "                start =i\n",
    "                break\n",
    "        for i in range(len(nums)-1, -1, -1):\n",
    "            if nums[i] == target:\n",
    "                end = i\n",
    "                break\n",
    "        \n",
    "        return [start, end]\n",
    "\n",
    "    def targetIndices(self, nums: List[int], target: int) -> List[int]:\n",
    "\n",
    "        sorted_arr = sorted(nums)\n",
    "        indices = []\n",
    "        for i in range(len(sorted_arr)):\n",
    "            if sorted_arr[i] == target:\n",
    "                indices.append(i)\n",
    "        return indices\n",
    "    \n",
    "    def reverseStr(self, s: str, k: int) -> str:\n",
    "        two_char = s[:2]\n",
    "        return two_char[::-1]+ s[2:]\n",
    "                \n",
    "\n",
    "sol = Solution()\n",
    "s = \"abcdefg\", \n",
    "k = 2\n",
    "\n",
    "two_char = s[:2]\n",
    "print(s[:2])\n",
    "\n"
   ]
  },
  {
   "cell_type": "code",
   "execution_count": 96,
   "metadata": {},
   "outputs": [
    {
     "name": "stdout",
     "output_type": "stream",
     "text": [
      "Counter({4: 2, 1: 1, 2: 1, 5: 1})\n"
     ]
    }
   ],
   "source": [
    "\n",
    "nums = [1, 2, 4, 4, 5]\n",
    "def count_num(nums):\n",
    "    count = Counter(nums)\n",
    "    def custom_sort(n):\n",
    "      return count[n]\n",
    "    \n",
    "    # return nums.sort(key=custom_sort(count))\n",
    "    return count\n",
    "\n",
    "\n",
    "print(count_num(nums))"
   ]
  },
  {
   "cell_type": "code",
   "execution_count": 61,
   "metadata": {},
   "outputs": [
    {
     "name": "stdout",
     "output_type": "stream",
     "text": [
      "ghIj-dEf-bC-a\n"
     ]
    }
   ],
   "source": [
    "class Solution:\n",
    "    def reverseWords(self, s: str) -> str:\n",
    "        result = s.strip().split()\n",
    "        res = [x[::-1] for x in result]\n",
    "        return \" \".join(res)\n",
    "\n",
    "    def reverseVowels(self, s: str) -> str:\n",
    "        rs = 'aeiou'\n",
    "        stack = []\n",
    "        for i, x in enumerate(s):\n",
    "            if x in rs:\n",
    "                stack.append(i)\n",
    "        return stack\n",
    "    \n",
    "    def reverseOnlyLetters(self, s: str) -> str:\n",
    "        result = s.strip().split(\"-\")[::-1]\n",
    "        return \"-\".join(result)\n",
    "    \n",
    "    \n"
   ]
  },
  {
   "cell_type": "code",
   "execution_count": 64,
   "metadata": {},
   "outputs": [
    {
     "name": "stdout",
     "output_type": "stream",
     "text": [
      "sad\n",
      "0\n"
     ]
    }
   ],
   "source": [
    "class Solution:\n",
    "    def strStr(self, haystack: str, needle: str) -> int:\n",
    "\n",
    "        for i in range(len(haystack)):\n",
    "            if haystack[i:i+len(needle)] == needle:\n",
    "                return i\n",
    "        return -1\n",
    "\n",
    "\n",
    "sol = Solution()\n",
    "\n",
    "haystack = \"sadbutsad\"\n",
    "\n",
    "needle = \"sad\"\n",
    "print(haystack[0:3])\n",
    "print(sol.strStr(haystack, needle))\n"
   ]
  },
  {
   "cell_type": "code",
   "execution_count": null,
   "metadata": {},
   "outputs": [],
   "source": [
    "class Solution:\n",
    "    def isSubsequence(self, s: str, t: str) -> bool:\n",
    "        n_s, n_t = len(s), len(t)\n",
    "        i = j = 0\n",
    "        while i < n_s and j < n_t:\n",
    "            if s[i] ==  t[j]:\n",
    "                i+=1\n",
    "            j+=1\n",
    "        return i==n_s\n",
    "    \n",
    "    def fizzBuzz(self, n: int) -> List[str]:\n",
    "        return [\"FizzBuzz\" if x%3==0 and x%5==0  else \"Fizz\" if x%3==0 else \"Buzz\" if x%5==0 else str(x) for x in range(1,n+1)]\n",
    "\n",
    "sol = Solution()\n",
    "\n",
    "print(sol.fizzBuzz(15)==[\"1\",\"2\",\"Fizz\",\"4\",\"Buzz\",\"Fizz\",\"7\",\"8\",\"Fizz\",\"Buzz\",\"11\",\"Fizz\",\"13\",\"14\",\"FizzBuzz\"])\n"
   ]
  },
  {
   "cell_type": "code",
   "execution_count": 108,
   "metadata": {},
   "outputs": [
    {
     "name": "stdout",
     "output_type": "stream",
     "text": [
      "True\n"
     ]
    }
   ],
   "source": [
    "# We define the usage of capitals in a word to be right when one of the following cases holds:\n",
    "# All letters in this word are capitals, like \"USA\".\n",
    "# All letters in this word are not capitals, like \"leetcode\".\n",
    "# Only the first letter in this word is capital, like \"Google\".\n",
    "# Given a string word, return true if the usage of capitals in it is right.\n",
    "\n",
    "class Solution:\n",
    "    def detectCapitalUse(self, word: str) -> bool:\n",
    "        if word == word.upper():\n",
    "            return True\n",
    "        elif word == word.capitalize():\n",
    "            return True\n",
    "        elif word == word.lower():\n",
    "            return True\n",
    "        else:\n",
    "            return False\n",
    "        \n",
    "\n",
    "\n",
    "sol = Solution()\n",
    "word = \"g\"\n",
    "print(sol.detectCapitalUse(word=word))\n"
   ]
  },
  {
   "cell_type": "code",
   "execution_count": 126,
   "metadata": {},
   "outputs": [
    {
     "data": {
      "text/plain": [
       "[1, 3, 24]"
      ]
     },
     "execution_count": 126,
     "metadata": {},
     "output_type": "execute_result"
    }
   ],
   "source": [
    "\n",
    "class Solution:\n",
    "    def search(self, nums: List[int], target: int) -> int:\n",
    "        l, r = 0, len(nums) - 1\n",
    "        while l < r:\n",
    "            mid = (l+r)//2\n",
    "            if nums[mid] == target:\n",
    "                return mid\n",
    "            elif nums[mid] < target:\n",
    "                l = mid+1\n",
    "            else:\n",
    "                r = mid-1\n",
    "        return -1\n",
    "    \n",
    "    def sortColors(self, nums: List[int]) -> None:\n",
    "        n = len(nums)\n",
    "        for i in range(n):\n",
    "            for j in range(0, n-i-1):\n",
    "                if nums[j] > nums[j+1]:\n",
    "                    nums[j], nums[j+1] = nums[j+1], nums[j]\n",
    "        \n",
    "                \n",
    "sol = Solution()\n",
    "\n",
    "nums = [3,24,1]\n",
    "sol.bubble_sort(nums)\n",
    "nums"
   ]
  },
  {
   "cell_type": "code",
   "execution_count": 119,
   "metadata": {},
   "outputs": [
    {
     "name": "stdout",
     "output_type": "stream",
     "text": [
      "[1]\n"
     ]
    }
   ],
   "source": [
    "def func(x=[]):\n",
    "    x.append(1)\n",
    "    return x\n",
    "\n",
    "print(func())\n",
    "print(func())"
   ]
  },
  {
   "cell_type": "code",
   "execution_count": 179,
   "metadata": {},
   "outputs": [
    {
     "name": "stdout",
     "output_type": "stream",
     "text": [
      "50\n"
     ]
    }
   ],
   "source": [
    "class Solution:\n",
    "    def scoreOfString(self, s: str) -> int:\n",
    "        total = 0\n",
    "        for i in range(len(s)-1):\n",
    "            total += abs(ord(s[i]) - ord(s[i+1]))\n",
    "        return total\n",
    "\n",
    "    \n",
    "sol = Solution()\n",
    "s = \"zaz\"\n",
    "print(sol.scoreOfString(s))"
   ]
  },
  {
   "cell_type": "code",
   "execution_count": 190,
   "metadata": {},
   "outputs": [
    {
     "name": "stdout",
     "output_type": "stream",
     "text": [
      "True\n"
     ]
    }
   ],
   "source": [
    "class Solution:\n",
    "    def getConcatenation(self, nums: List[int]) -> List[int]:\n",
    "        res = []\n",
    "        for x in nums:\n",
    "            res.append(x)\n",
    "        \n",
    "        for x in nums:\n",
    "            res.append(x)\n",
    "        return res\n",
    "\n",
    "nums = [1,3,2,1]\n",
    "sol = Solution()\n",
    "print(sol.getConcatenation(nums=nums)==[1,3,2,1,1,3,2,1])"
   ]
  },
  {
   "cell_type": "code",
   "execution_count": 63,
   "metadata": {},
   "outputs": [
    {
     "name": "stdout",
     "output_type": "stream",
     "text": [
      "True\n",
      "1\n"
     ]
    }
   ],
   "source": [
    "class Solution:\n",
    "    def isUgly(self, n: int) -> bool:\n",
    "\n",
    "        if n <=0:\n",
    "            return False\n",
    "\n",
    "        for p in [2, 3, 5]:\n",
    "            while n%p ==0:\n",
    "                n = n//p\n",
    "        return n==1\n",
    "\n",
    "sol = Solution()\n",
    "n = 6\n",
    "print(sol.isUgly(n))\n",
    "print(6//5)"
   ]
  },
  {
   "cell_type": "code",
   "execution_count": 67,
   "metadata": {},
   "outputs": [
    {
     "name": "stdout",
     "output_type": "stream",
     "text": [
      "3\n"
     ]
    }
   ],
   "source": [
    "class Solution:\n",
    "    def fib(self, n: int) -> int:\n",
    "        if n==0:\n",
    "            return 0\n",
    "        elif n==1:\n",
    "            return 1\n",
    "        else:\n",
    "            return self.fib(n-1) + self.fib(n-2)\n",
    "\n",
    "sol = Solution()\n",
    "\n",
    "print(sol.fib(4))"
   ]
  },
  {
   "cell_type": "code",
   "execution_count": 92,
   "metadata": {},
   "outputs": [
    {
     "name": "stdout",
     "output_type": "stream",
     "text": [
      "True\n"
     ]
    }
   ],
   "source": [
    "class Solution:\n",
    "    def checkPerfectNumber(self, num: int) -> bool:\n",
    "        \n",
    "        sum =1\n",
    "        for i in range(2, int(num ** 0.5)+1):\n",
    "            if num % i ==0:\n",
    "                sum += i + num //i\n",
    "        return num == sum\n",
    "\n",
    "sol = Solution()\n",
    "\n",
    "print(sol.checkPerfectNumber(28))"
   ]
  },
  {
   "cell_type": "code",
   "execution_count": 97,
   "metadata": {},
   "outputs": [
    {
     "name": "stdout",
     "output_type": "stream",
     "text": [
      "1\n",
      "[3, 2, 2, 1]\n"
     ]
    }
   ],
   "source": [
    "\n",
    "class Solution:\n",
    "    def thirdMax(self, nums: List[int]) -> int:\n",
    "        res = set()\n",
    "\n",
    "        for x in nums:\n",
    "            res.add(x)\n",
    "\n",
    "        list(res)\n",
    "        result = sorted(res, reverse=True)\n",
    "\n",
    "        if len(result) < 3:\n",
    "            return result[0]\n",
    "        else:\n",
    "            return result[2]\n",
    "\n",
    "\n",
    "\n",
    "nums= [2,2,3,1]\n",
    "\n",
    "sol = Solution()\n",
    "print(sol.thirdMax(nums))\n",
    "print(sorted(nums, reverse=True))"
   ]
  },
  {
   "cell_type": "code",
   "execution_count": 146,
   "metadata": {},
   "outputs": [
    {
     "name": "stdout",
     "output_type": "stream",
     "text": [
      "3\n"
     ]
    }
   ],
   "source": [
    "class Solution:\n",
    "    def findDuplicate(self, nums: List[int]) -> int:\n",
    "        sorted(nums)\n",
    "        for i in range(len(nums)):\n",
    "            for j in range(i+1, len(nums)):\n",
    "                if nums[i] == nums[j]:\n",
    "                    return nums[i]\n",
    "        return -1\n",
    "\n",
    "sol = Solution()\n",
    "nums = [3,3,3,3,3]\n",
    "print(sol.findDuplicate(nums))"
   ]
  },
  {
   "cell_type": "code",
   "execution_count": 153,
   "metadata": {},
   "outputs": [
    {
     "name": "stdout",
     "output_type": "stream",
     "text": [
      "3\n"
     ]
    }
   ],
   "source": [
    "class Solution:\n",
    "    def findDuplicate(self, nums: List[int]) -> int:\n",
    "        seen = set()\n",
    "        for num in nums:\n",
    "            if num in seen:\n",
    "                return num\n",
    "            seen.add(num)\n",
    "            \n",
    "\n",
    "sol = Solution()\n",
    "nums = [3, 3, 3,3 ,3 ]\n",
    "print(sol.findDuplicate(nums))"
   ]
  },
  {
   "cell_type": "code",
   "execution_count": 178,
   "metadata": {},
   "outputs": [
    {
     "name": "stdout",
     "output_type": "stream",
     "text": [
      "2.5\n"
     ]
    }
   ],
   "source": [
    "class Solution:\n",
    "    def findMedianSortedArrays(self, nums1: List[int], nums2: List[int]) -> float:\n",
    "        sorted_arr = sorted(nums1 + nums2)\n",
    "        n = len(sorted_arr)\n",
    "\n",
    "        mid = n // 2\n",
    "\n",
    "        if n%2==1:\n",
    "            return sorted_arr[mid]\n",
    "        else:\n",
    "           l = mid -1\n",
    "           r = mid\n",
    "           return (sorted_arr[l] + sorted_arr[r])/2\n",
    "\n",
    "sol = Solution()\n",
    "\n",
    "nums1 = [1,2]\n",
    "nums2 = [3,4]\n",
    "print(sol.findMedianSortedArrays(nums1, nums2))"
   ]
  },
  {
   "cell_type": "code",
   "execution_count": 213,
   "metadata": {},
   "outputs": [
    {
     "name": "stdout",
     "output_type": "stream",
     "text": [
      "3\n"
     ]
    }
   ],
   "source": [
    "class Solution:\n",
    "    def numUniqueEmails(self, emails: List[str]) -> int:\n",
    "        unique = set()\n",
    "        for email in emails:\n",
    "            local, domain = email.split(\"@\")\n",
    "            local = local.split(\"+\")[0].replace(\".\", \"\")\n",
    "            new_email = \"@\".join([local, domain])\n",
    "            unique.add(new_email)\n",
    "        return len(unique)\n",
    "\n",
    "\n",
    "sol = Solution()\n",
    "\n",
    "emails = [\"test.email+alex@leetcode.com\",\"test.e.mail+bob.cathy@leetcode.com\",\"testemail+david@lee.tcode.com\"]\n",
    "output = [\"a@leetcode.com\",\"b@leetcode.com\",\"c@leetcode.com\"]\n",
    "\n",
    "print(sol.numUniqueEmails(emails=output))\n"
   ]
  },
  {
   "cell_type": "code",
   "execution_count": 98,
   "metadata": {},
   "outputs": [
    {
     "name": "stdout",
     "output_type": "stream",
     "text": [
      "False\n"
     ]
    }
   ],
   "source": [
    "\n",
    "class Solution:\n",
    "    def uniqueOccurrences(self, arr: List[int]) -> bool:\n",
    "        count = Counter(arr)\n",
    "        unique = set()\n",
    "\n",
    "        for val in count.values():\n",
    "            if val in unique:\n",
    "                return False\n",
    "            unique.add(val)\n",
    "        return True\n",
    "\n",
    "\n",
    "sol = Solution()\n",
    "arr =[3,5,-2,-3,-6,-6]\n",
    "\n",
    "print(sol.uniqueOccurrences(arr))"
   ]
  },
  {
   "cell_type": "code",
   "execution_count": null,
   "metadata": {},
   "outputs": [],
   "source": [
    "import pandas as pd\n",
    "import numpy as np\n",
    "\n",
    "def getDataframeSize(players: pd.DataFrame):\n",
    "    rows, colums = players.shape\n",
    "    return rows, colums\n",
    "\n",
    "def createBonusColumn(employees: pd.DataFrame) -> pd.DataFrame:\n",
    "    employees[\"bonus\"] = employees[\"salary\"] *2\n",
    "    return employees\n",
    "\n",
    "def modifySalaryColumn(employees: pd.DataFrame) -> pd.DataFrame:\n",
    "    employees[\"salary\"] = employees[\"salary\"] *2\n",
    "    return employees\n",
    "\n",
    "def renameColumns(students: pd.DataFrame) -> pd.DataFrame:\n",
    "    return students.rename(columns={\"id\":\"student_id\", \"first\":\"first_name\", \"last\":\"last_name\", \"age\":\"age_in_years\"})\n",
    "    \n",
    "    \n",
    "def changeDatatype(students: pd.DataFrame) -> pd.DataFrame:\n",
    "    students[\"grade\"] = students[\"grade\"].astype(int)\n",
    "    return students\n",
    "\n",
    "def fillMissingValues(products: pd.DataFrame) -> pd.DataFrame:\n",
    "    products[\"quantity\"] = products[\"quantity\"].fillna(0)\n",
    "    return products\n",
    "\n",
    "def findHeavyAnimals(animals: pd.DataFrame) -> pd.DataFrame:\n",
    "    result = animals[animals[\"weight\"]>100].sort_values(by=\"weight\", ascending=False)\n",
    "    return result[[\"name\"]]\n",
    "\n",
    "\n",
    "data = {\n",
    "    'name': ['Tatiana', 'Khaled', 'Alex', 'Jonathan', 'Stefan', 'Tommy'],\n",
    "    'species': ['Snake', 'Giraffe', 'Leopard', 'Monkey', 'Bear', 'Panda'],\n",
    "    'age': [98, 50, 6, 45, 100, 26],\n",
    "    'weight': [464, 41, 328, 463, 50, 349]\n",
    "}\n",
    "\n",
    "df = pd.DataFrame(data=data)\n",
    "\n",
    "findHeavyAnimals(df)"
   ]
  },
  {
   "cell_type": "code",
   "execution_count": 91,
   "metadata": {},
   "outputs": [
    {
     "data": {
      "text/html": [
       "<div>\n",
       "<style scoped>\n",
       "    .dataframe tbody tr th:only-of-type {\n",
       "        vertical-align: middle;\n",
       "    }\n",
       "\n",
       "    .dataframe tbody tr th {\n",
       "        vertical-align: top;\n",
       "    }\n",
       "\n",
       "    .dataframe thead th {\n",
       "        text-align: right;\n",
       "    }\n",
       "</style>\n",
       "<table border=\"1\" class=\"dataframe\">\n",
       "  <thead>\n",
       "    <tr style=\"text-align: right;\">\n",
       "      <th></th>\n",
       "      <th>day</th>\n",
       "      <th>emp_id</th>\n",
       "      <th>total_time</th>\n",
       "    </tr>\n",
       "  </thead>\n",
       "  <tbody>\n",
       "    <tr>\n",
       "      <th>0</th>\n",
       "      <td>2020-11-28</td>\n",
       "      <td>1</td>\n",
       "      <td>173</td>\n",
       "    </tr>\n",
       "    <tr>\n",
       "      <th>1</th>\n",
       "      <td>2020-12-03</td>\n",
       "      <td>1</td>\n",
       "      <td>41</td>\n",
       "    </tr>\n",
       "    <tr>\n",
       "      <th>2</th>\n",
       "      <td>2020-11-28</td>\n",
       "      <td>2</td>\n",
       "      <td>30</td>\n",
       "    </tr>\n",
       "    <tr>\n",
       "      <th>3</th>\n",
       "      <td>2020-12-09</td>\n",
       "      <td>2</td>\n",
       "      <td>27</td>\n",
       "    </tr>\n",
       "  </tbody>\n",
       "</table>\n",
       "</div>"
      ],
      "text/plain": [
       "         day  emp_id  total_time\n",
       "0 2020-11-28       1         173\n",
       "1 2020-12-03       1          41\n",
       "2 2020-11-28       2          30\n",
       "3 2020-12-09       2          27"
      ]
     },
     "execution_count": 91,
     "metadata": {},
     "output_type": "execute_result"
    }
   ],
   "source": [
    "data = [['1', '2020-11-28', '4', '32'], ['1', '2020-11-28', '55', '200'], ['1', '2020-12-3', '1', '42'], ['2', '2020-11-28', '3', '33'], ['2', '2020-12-9', '47', '74']]\n",
    "employees = pd.DataFrame(data, columns=['emp_id', 'event_day', 'in_time', 'out_time']).astype({'emp_id':'Int64', 'event_day':'datetime64[ns]', 'in_time':'Int64', 'out_time':'Int64'})\n",
    "\n",
    "# employees[\"total_time\"] = employees[\"out_time\"] - employees[\"in_time\"]\n",
    "\n",
    "# df = employees.groupby([\"emp_id\", \"event_day\"])[\"total_time\"].sum().reset_index(name=\"total_time\")\n",
    "\n",
    "# df = df[[\"event_day\", \"emp_id\", \"total_time\"]]\n",
    "# df.rename(columns={\"event_day\" :\"day\"})\n",
    "\n",
    "def total_time(employees: pd.DataFrame) -> pd.DataFrame:\n",
    "    employees[\"total_time\"] = employees[\"out_time\"] - employees[\"in_time\"]\n",
    "\n",
    "    df = employees.groupby([\"emp_id\", \"event_day\"])[\"total_time\"].sum().reset_index(name=\"total_time\")\n",
    "\n",
    "    df = df[[\"event_day\", \"emp_id\", \"total_time\"]]\n",
    "    return df.rename(columns={\"event_day\" :\"day\"})\n",
    "\n",
    "\n",
    "total_time(employees=employees)"
   ]
  },
  {
   "cell_type": "code",
   "execution_count": 99,
   "metadata": {},
   "outputs": [
    {
     "name": "stdout",
     "output_type": "stream",
     "text": [
      "4\n"
     ]
    }
   ],
   "source": [
    "class Solution:\n",
    "    def search(self, nums: List[int], target: int) -> int:\n",
    "        for i in range(len(nums)):\n",
    "            if nums[i] == target:\n",
    "                return i\n",
    "        return -1\n",
    "    \n",
    "sol = Solution()\n",
    "nums = [4,5,6,7,0,1,2]\n",
    "target = 0\n",
    "\n",
    "print(sol.search(nums, target))"
   ]
  },
  {
   "cell_type": "code",
   "execution_count": 100,
   "metadata": {},
   "outputs": [
    {
     "name": "stdout",
     "output_type": "stream",
     "text": [
      "0\n"
     ]
    }
   ],
   "source": [
    "class Solution:\n",
    "    def findMin(self, nums: List[int]) -> int:\n",
    "        return min(nums)\n",
    "    \n",
    "nums = [4,5,6,7,0,1,2]\n",
    "sol = Solution()\n",
    "print(sol.findMin(nums))"
   ]
  },
  {
   "cell_type": "code",
   "execution_count": 117,
   "metadata": {},
   "outputs": [
    {
     "data": {
      "text/html": [
       "<div>\n",
       "<style scoped>\n",
       "    .dataframe tbody tr th:only-of-type {\n",
       "        vertical-align: middle;\n",
       "    }\n",
       "\n",
       "    .dataframe tbody tr th {\n",
       "        vertical-align: top;\n",
       "    }\n",
       "\n",
       "    .dataframe thead th {\n",
       "        text-align: right;\n",
       "    }\n",
       "</style>\n",
       "<table border=\"1\" class=\"dataframe\">\n",
       "  <thead>\n",
       "    <tr style=\"text-align: right;\">\n",
       "      <th></th>\n",
       "      <th>user_id</th>\n",
       "      <th>name</th>\n",
       "    </tr>\n",
       "  </thead>\n",
       "  <tbody>\n",
       "    <tr>\n",
       "      <th>0</th>\n",
       "      <td>222</td>\n",
       "      <td>Refael</td>\n",
       "    </tr>\n",
       "    <tr>\n",
       "      <th>1</th>\n",
       "      <td>593</td>\n",
       "      <td>Dalila</td>\n",
       "    </tr>\n",
       "    <tr>\n",
       "      <th>2</th>\n",
       "      <td>944</td>\n",
       "      <td>Freida</td>\n",
       "    </tr>\n",
       "  </tbody>\n",
       "</table>\n",
       "</div>"
      ],
      "text/plain": [
       "   user_id    name\n",
       "0      222  Refael\n",
       "1      593  Dalila\n",
       "2      944  Freida"
      ]
     },
     "execution_count": 117,
     "metadata": {},
     "output_type": "execute_result"
    }
   ],
   "source": [
    "data = [[222, \"Refael\"], [593,\"Dalila\"], [944, \"Freida\"]]\n",
    "users = pd.DataFrame(data, columns=['user_id', 'name']).astype({'user_id':'Int64', 'name':'object'})\n",
    "\n",
    "\n",
    "def fix_names(users: pd.DataFrame) -> pd.DataFrame:\n",
    "    users[\"name\"] = users[\"name\"].str.capitalize()\n",
    "    return users.sort_values(by=\"user_id\")\n",
    "\n",
    "\n",
    "fix_names(users=users)"
   ]
  },
  {
   "cell_type": "code",
   "execution_count": null,
   "metadata": {},
   "outputs": [],
   "source": [
    "data = [[1, 'Vote for Biden'], [2, 'Let us make America great again!']]\n",
    "tweets = pd.DataFrame(data, columns=['tweet_id', 'content']).astype({'tweet_id':'Int64', 'content':'object'})\n",
    "\n",
    "\n",
    "def invalid_tweets(tweets: pd.DataFrame) -> pd.DataFrame:\n",
    "    pass\n",
    "\n"
   ]
  },
  {
   "cell_type": "code",
   "execution_count": null,
   "metadata": {},
   "outputs": [],
   "source": [
    "data = [[1, 'Winston', 'winston@leetcode.com'], [2, 'Jonathan', 'jonathanisgreat'], [3, 'Annabelle', 'bella-@leetcode.com'], [4, 'Sally', 'sally.come@leetcode.com'], [5, 'Marwan', 'quarz#2020@leetcode.com'], [6, 'David', 'david69@gmail.com'], [7, 'Shapiro', '.shapo@leetcode.com']]\n",
    "users = pd.DataFrame(data, columns=['user_id', 'name', 'mail']).astype({'user_id':'int64', 'name':'object', 'mail':'object'})\n",
    "\n",
    "for mail in users[\"mail\"]:\n",
    "    \n",
    "    print(mail)\n"
   ]
  },
  {
   "cell_type": "code",
   "execution_count": 156,
   "metadata": {},
   "outputs": [
    {
     "data": {
      "text/html": [
       "<div>\n",
       "<style scoped>\n",
       "    .dataframe tbody tr th:only-of-type {\n",
       "        vertical-align: middle;\n",
       "    }\n",
       "\n",
       "    .dataframe tbody tr th {\n",
       "        vertical-align: top;\n",
       "    }\n",
       "\n",
       "    .dataframe thead th {\n",
       "        text-align: right;\n",
       "    }\n",
       "</style>\n",
       "<table border=\"1\" class=\"dataframe\">\n",
       "  <thead>\n",
       "    <tr style=\"text-align: right;\">\n",
       "      <th></th>\n",
       "      <th>name</th>\n",
       "      <th>bonus</th>\n",
       "    </tr>\n",
       "  </thead>\n",
       "  <tbody>\n",
       "    <tr>\n",
       "      <th>0</th>\n",
       "      <td>Meir</td>\n",
       "      <td>0</td>\n",
       "    </tr>\n",
       "    <tr>\n",
       "      <th>1</th>\n",
       "      <td>Michael</td>\n",
       "      <td>0</td>\n",
       "    </tr>\n",
       "    <tr>\n",
       "      <th>2</th>\n",
       "      <td>Addilyn</td>\n",
       "      <td>7400</td>\n",
       "    </tr>\n",
       "    <tr>\n",
       "      <th>3</th>\n",
       "      <td>Juan</td>\n",
       "      <td>0</td>\n",
       "    </tr>\n",
       "    <tr>\n",
       "      <th>4</th>\n",
       "      <td>Kannon</td>\n",
       "      <td>7700</td>\n",
       "    </tr>\n",
       "  </tbody>\n",
       "</table>\n",
       "</div>"
      ],
      "text/plain": [
       "      name  bonus\n",
       "0     Meir      0\n",
       "1  Michael      0\n",
       "2  Addilyn   7400\n",
       "3     Juan      0\n",
       "4   Kannon   7700"
      ]
     },
     "execution_count": 156,
     "metadata": {},
     "output_type": "execute_result"
    }
   ],
   "source": [
    "data = [[2, 'Meir', 3000], [3, 'Michael', 3800], [7, 'Addilyn', 7400], [8, 'Juan', 6100], [9, 'Kannon', 7700]]\n",
    "employees = pd.DataFrame(data, columns=['employee_id', 'name', 'salary']).astype({'employee_id':'int64', 'name':'object', 'salary':'int64'})\n",
    "\n",
    "def calculate_special_bonus(employees: pd.DataFrame) -> pd.DataFrame:\n",
    "    employees[\"bonus\"] = 0\n",
    "    employees.loc[(employees[\"employee_id\"] % 2 ==1) & (employees[\"name\"].str[0] != \"M\"), \"bonus\"] = employees[\"salary\"]\n",
    "    return employees.sort_values(by=\"employee_id\")[[\"employee_id\", \"bonus\"]]\n",
    "\n",
    "\n",
    "calculate_special_bonus(employees=employees)"
   ]
  },
  {
   "cell_type": "code",
   "execution_count": 185,
   "metadata": {},
   "outputs": [
    {
     "data": {
      "text/html": [
       "<div>\n",
       "<style scoped>\n",
       "    .dataframe tbody tr th:only-of-type {\n",
       "        vertical-align: middle;\n",
       "    }\n",
       "\n",
       "    .dataframe tbody tr th {\n",
       "        vertical-align: top;\n",
       "    }\n",
       "\n",
       "    .dataframe thead th {\n",
       "        text-align: right;\n",
       "    }\n",
       "</style>\n",
       "<table border=\"1\" class=\"dataframe\">\n",
       "  <thead>\n",
       "    <tr style=\"text-align: right;\">\n",
       "      <th></th>\n",
       "      <th>patient_id</th>\n",
       "      <th>patient_name</th>\n",
       "      <th>conditions</th>\n",
       "    </tr>\n",
       "  </thead>\n",
       "  <tbody>\n",
       "    <tr>\n",
       "      <th>2</th>\n",
       "      <td>3</td>\n",
       "      <td>Bob</td>\n",
       "      <td>DIAB100 MYOP</td>\n",
       "    </tr>\n",
       "    <tr>\n",
       "      <th>3</th>\n",
       "      <td>4</td>\n",
       "      <td>George</td>\n",
       "      <td>ACNE DIAB100</td>\n",
       "    </tr>\n",
       "  </tbody>\n",
       "</table>\n",
       "</div>"
      ],
      "text/plain": [
       "   patient_id patient_name    conditions\n",
       "2           3          Bob  DIAB100 MYOP\n",
       "3           4       George  ACNE DIAB100"
      ]
     },
     "execution_count": 185,
     "metadata": {},
     "output_type": "execute_result"
    }
   ],
   "source": [
    "data = [[1, 'Daniel', 'YFEV COUGH'], [2, 'Alice', ''], [3, 'Bob', 'DIAB100 MYOP'], [4, 'George', 'ACNE DIAB100'], [5, 'Alain', 'DIAB201'], [16 , \"Daniel\" , \"SADIAB100\"]]\n",
    "patients = pd.DataFrame(data, columns=['patient_id', 'patient_name', 'conditions']).astype({'patient_id':'int64', 'patient_name':'object', 'conditions':'object'})\n",
    "\n",
    "def find_patients(patients: pd.DataFrame) -> pd.DataFrame:\n",
    "    return patients.loc[patients[\"conditions\"].str.contains(r'\\bDIAB1', regex=True,na=False)]\n",
    "    \n",
    "\n",
    "find_patients(patients)"
   ]
  },
  {
   "cell_type": "code",
   "execution_count": 187,
   "metadata": {},
   "outputs": [
    {
     "name": "stdout",
     "output_type": "stream",
     "text": [
      "10\n"
     ]
    }
   ],
   "source": [
    "class Solution:\n",
    "    def countPairs(self, nums: List[int], target: int) -> int:\n",
    "        \n",
    "        n = len(nums)\n",
    "        count = 0\n",
    "\n",
    "        for i in range(n):\n",
    "            for j in range(i+1, n):\n",
    "                if nums[i] + nums[j] < target:\n",
    "                    count +=1\n",
    "        return count\n",
    "\n",
    "sol = Solution()\n",
    "nums = [-6,2,5,-2,-7,-1,3]\n",
    "target = -2\n",
    "\n",
    "print(sol.countPairs(nums, target))"
   ]
  },
  {
   "cell_type": "code",
   "execution_count": 239,
   "metadata": {},
   "outputs": [
    {
     "data": {
      "text/html": [
       "<div>\n",
       "<style scoped>\n",
       "    .dataframe tbody tr th:only-of-type {\n",
       "        vertical-align: middle;\n",
       "    }\n",
       "\n",
       "    .dataframe tbody tr th {\n",
       "        vertical-align: top;\n",
       "    }\n",
       "\n",
       "    .dataframe thead th {\n",
       "        text-align: right;\n",
       "    }\n",
       "</style>\n",
       "<table border=\"1\" class=\"dataframe\">\n",
       "  <thead>\n",
       "    <tr style=\"text-align: right;\">\n",
       "      <th></th>\n",
       "      <th>customer_number</th>\n",
       "    </tr>\n",
       "  </thead>\n",
       "  <tbody>\n",
       "    <tr>\n",
       "      <th>2</th>\n",
       "      <td>3</td>\n",
       "    </tr>\n",
       "  </tbody>\n",
       "</table>\n",
       "</div>"
      ],
      "text/plain": [
       "   customer_number\n",
       "2                3"
      ]
     },
     "execution_count": 239,
     "metadata": {},
     "output_type": "execute_result"
    }
   ],
   "source": [
    "data = [[1, 1], [2, 2], [3, 3], [4, 3]]\n",
    "orders = pd.DataFrame(data, columns=['order_number', 'customer_number']).astype({'order_number':'Int64', 'customer_number':'Int64'})\n",
    "\n",
    "def largest_orders(orders: pd.DataFrame) -> pd.DataFrame:\n",
    "    df = orders.groupby(orders[\"customer_number\"])[\"order_number\"].count().reset_index()\n",
    "    top_customer = df[df[\"order_number\"] == df[\"order_number\"].max()][[\"customer_number\"]]\n",
    "    return top_customer\n",
    "\n",
    "largest_orders(orders)\n"
   ]
  },
  {
   "cell_type": "code",
   "execution_count": null,
   "metadata": {},
   "outputs": [],
   "source": [
    "def concatenateTables(df1: pd.DataFrame, df2: pd.DataFrame) -> pd.DataFrame:\n",
    "    frames = [df1, df2]\n",
    "    return pd.concat(frames)"
   ]
  },
  {
   "cell_type": "code",
   "execution_count": 19,
   "metadata": {},
   "outputs": [
    {
     "name": "stdout",
     "output_type": "stream",
     "text": [
      "Counter({'l': 1, 'i': 1, 's': 1, 't': 1, 'e': 1, 'n': 1})\n"
     ]
    }
   ],
   "source": [
    "def get_all_substrings(s):\n",
    "    n = len(s)\n",
    "    substrings = []\n",
    "\n",
    "    for i in range(n):\n",
    "        for j in range(i+1, n+1):\n",
    "            substrings.append(s[i:j])\n",
    "    return substrings\n",
    "\n"
   ]
  },
  {
   "cell_type": "code",
   "execution_count": 17,
   "metadata": {},
   "outputs": [
    {
     "name": "stdout",
     "output_type": "stream",
     "text": [
      "True\n"
     ]
    }
   ],
   "source": [
    "class Solution:\n",
    "    def isAnagram(self, s: str, t: str) -> bool:\n",
    "        count_s, count_t = {}, {}\n",
    "\n",
    "        for i in range(len(s)):\n",
    "            count_s[s[i]] = 1+ count_s.get(s[i], 0)\n",
    "        \n",
    "        for j in range(len(t)):\n",
    "            count_t[t[j]] = 1+ count_t.get(t[j], 0)\n",
    "        \n",
    "        return  count_s==count_t\n",
    "\n",
    "\n",
    "\n",
    "sol = Solution()\n",
    "\n",
    "s = \"listen\"\n",
    "t = \"silent\"\n",
    "    \n",
    "print(sol.isAnagram(s, t))\n"
   ]
  },
  {
   "cell_type": "code",
   "execution_count": 44,
   "metadata": {},
   "outputs": [
    {
     "name": "stdout",
     "output_type": "stream",
     "text": [
      "4\n"
     ]
    }
   ],
   "source": [
    "class Solution:\n",
    "    def singleNumber(self, nums: List[int]) -> int:\n",
    "        count = {}\n",
    "\n",
    "        for i in range(len(nums)):\n",
    "            count[nums[i]] = 1+ count.get(nums[i], 0)\n",
    "        \n",
    "        for num in count:\n",
    "            if count[num] == 1:\n",
    "                return num\n",
    "        \n",
    "       \n",
    "sol = Solution()\n",
    "\n",
    "nums = [4,1,2,1,2]\n",
    "\n",
    "# nums = [2,2,1]\n",
    "\n",
    "print(sol.singleNumber(nums))"
   ]
  },
  {
   "cell_type": "code",
   "execution_count": 58,
   "metadata": {},
   "outputs": [
    {
     "data": {
      "text/plain": [
       "[1, 3, 12, 0, 0]"
      ]
     },
     "execution_count": 58,
     "metadata": {},
     "output_type": "execute_result"
    }
   ],
   "source": [
    "class Solution:\n",
    "    def moveZeroes(self, nums: List[int]) -> None:\n",
    "        \"\"\"\n",
    "        Do not return anything, modify nums in-place instead.\n",
    "        \"\"\"\n",
    "        non_zeros = [x for x in nums if x!=0]\n",
    "        n = len(nums) - len(non_zeros)\n",
    "        return non_zeros + [0]*n\n",
    "        \n",
    "\n",
    "\n",
    "sol = Solution()\n",
    "nums = [0,1,0,3,12]\n",
    "sol.moveZeroes(nums)\n"
   ]
  },
  {
   "cell_type": "code",
   "execution_count": 61,
   "metadata": {},
   "outputs": [
    {
     "name": "stdout",
     "output_type": "stream",
     "text": [
      "512301\n"
     ]
    }
   ],
   "source": [
    "class Solution:\n",
    "    def removeTrailingZeros(self, num: str) -> str:\n",
    "        num = num[::-1]\n",
    "        num = int(num)\n",
    "        return str(num)[::-1]\n",
    "\n",
    "sol = Solution()\n",
    "num = \"51230100\"\n",
    "print(sol.removeTrailingZeros(num))"
   ]
  },
  {
   "cell_type": "code",
   "execution_count": 68,
   "metadata": {},
   "outputs": [
    {
     "data": {
      "text/html": [
       "<div>\n",
       "<style scoped>\n",
       "    .dataframe tbody tr th:only-of-type {\n",
       "        vertical-align: middle;\n",
       "    }\n",
       "\n",
       "    .dataframe tbody tr th {\n",
       "        vertical-align: top;\n",
       "    }\n",
       "\n",
       "    .dataframe thead th {\n",
       "        text-align: right;\n",
       "    }\n",
       "</style>\n",
       "<table border=\"1\" class=\"dataframe\">\n",
       "  <thead>\n",
       "    <tr style=\"text-align: right;\">\n",
       "      <th></th>\n",
       "      <th>personId</th>\n",
       "      <th>firstName</th>\n",
       "      <th>lastName</th>\n",
       "      <th>city</th>\n",
       "      <th>state</th>\n",
       "    </tr>\n",
       "  </thead>\n",
       "  <tbody>\n",
       "    <tr>\n",
       "      <th>0</th>\n",
       "      <td>2</td>\n",
       "      <td>Alice</td>\n",
       "      <td>Bob</td>\n",
       "      <td>New York City</td>\n",
       "      <td>New York</td>\n",
       "    </tr>\n",
       "  </tbody>\n",
       "</table>\n",
       "</div>"
      ],
      "text/plain": [
       "   personId firstName lastName           city     state\n",
       "0         2     Alice      Bob  New York City  New York"
      ]
     },
     "execution_count": 68,
     "metadata": {},
     "output_type": "execute_result"
    }
   ],
   "source": [
    "data = [[1, 'Wang', 'Allen'], [2, 'Alice', 'Bob']]\n",
    "person = pd.DataFrame(data, columns=['personId', 'firstName', 'lastName']).astype({'personId':'Int64', 'firstName':'object', 'lastName':'object'})\n",
    "\n",
    "data = [[1, 2, 'New York City', 'New York'], [2, 3, 'Leetcode', 'California']]\n",
    "address = pd.DataFrame(data, columns=['addressId', 'personId', 'city', 'state']).astype({'addressId':'Int64', 'personId':'Int64', 'city':'object', 'state':'object'})\n",
    "\n",
    "def combine_two_tables(person: pd.DataFrame, address: pd.DataFrame) -> pd.DataFrame:\n",
    "    return pd.merge(person, address.iloc[:, 1:], on=\"personId\")\n",
    "\n",
    "\n",
    "combine_two_tables(person, address)"
   ]
  },
  {
   "cell_type": "code",
   "execution_count": 94,
   "metadata": {},
   "outputs": [
    {
     "name": "stdout",
     "output_type": "stream",
     "text": [
      "35427\n"
     ]
    }
   ],
   "source": [
    "class Solution:\n",
    "    def largestOddNumber(self, num: str) -> str:\n",
    "\n",
    "        for i in range(len(num)-1, -1, -1):\n",
    "            if int(num[i]) %2:\n",
    "                return num[:i+1]\n",
    "        return \"\"\n",
    "    \n",
    "sol = Solution()\n",
    "num = \"35427\"\n",
    "print(sol.largestOddNumber(num))\n"
   ]
  },
  {
   "cell_type": "code",
   "execution_count": 16,
   "metadata": {},
   "outputs": [
    {
     "name": "stdout",
     "output_type": "stream",
     "text": [
      "[1, 2]\n"
     ]
    }
   ],
   "source": [
    "class Solution:\n",
    "    def twoSum(self, numbers: List[int], target: int) -> List[int]:\n",
    "        l, r = 0, len(numbers)-1\n",
    "\n",
    "        while l < r:\n",
    "            if numbers[l] + numbers[r] == target:\n",
    "                return [l+1, r+1]\n",
    "            if numbers[l] + numbers[r] > target:\n",
    "                r-=1\n",
    "            else:\n",
    "                l+=1\n",
    "\n",
    "        \n",
    "sol = Solution()\n",
    "numbers = [-1, 0]\n",
    "target = -1\n",
    "\n",
    "print(sol.twoSum(numbers, target))"
   ]
  },
  {
   "cell_type": "code",
   "execution_count": 23,
   "metadata": {},
   "outputs": [
    {
     "name": "stdout",
     "output_type": "stream",
     "text": [
      "4\n"
     ]
    }
   ],
   "source": [
    "class Solution:\n",
    "    def findRestaurant(self, list1: List[str], list2: List[str]) -> List[str]:\n",
    "\n",
    "        common = []\n",
    "        sum =0\n",
    "        for i in range(len(list1)):\n",
    "            for j in range(len(list2)):\n",
    "                if list1[i] == list2[j]:\n",
    "                    sum = i+j\n",
    "        return sum\n",
    "                \n",
    "\n",
    "\n",
    "# list1 = [\"Shogun\",\"Tapioca Express\",\"Burger King\",\"KFC\"]\n",
    "# list2 = [\"Piatti\",\"The Grill at Torrey Pines\",\"Hungry Hunter Steakhouse\",\"Shogun\"]\n",
    "\n",
    "list1 = [\"happy\",\"sad\",\"good\"]\n",
    "list2 = [\"sad\",\"happy\",\"good\"]\n",
    "\n",
    "sol = Solution()\n",
    "\n",
    "print(sol.findRestaurant(list1, list2))"
   ]
  },
  {
   "cell_type": "code",
   "execution_count": 33,
   "metadata": {},
   "outputs": [
    {
     "name": "stdout",
     "output_type": "stream",
     "text": [
      "False\n"
     ]
    }
   ],
   "source": [
    "class Solution:\n",
    "    def containsNearbyDuplicate(self, nums: List[int], k: int) -> bool:\n",
    "        num_dict = {}  # To store the value and its latest index\n",
    "        \n",
    "        for i in range(len(nums)):\n",
    "            if nums[i] in num_dict and i - num_dict[nums[i]] <= k:\n",
    "                return True\n",
    "            num_dict[nums[i]] = i  # Update the index of the current number\n",
    "        \n",
    "        return False\n",
    "    \n",
    "    def containsNearbyAlmostDuplicate(self, nums: List[int], indexDiff: int, valueDiff: int) -> bool:\n",
    "\n",
    "        for i in range(len(nums)):\n",
    "            for j in range(i+1, len(nums)):\n",
    "                if nums[i] != nums[j] and abs(i-j) <= indexDiff and abs(nums[i] - nums[j]) <= valueDiff:\n",
    "                    return True\n",
    "        return False\n",
    "    \n",
    "sol = Solution()\n",
    "\n",
    "nums = [1,5,9,1,5,9]\n",
    "indexDiff = 2\n",
    "valueDiff = 3\n",
    "\n",
    "print(sol.containsNearbyAlmostDuplicate(nums, indexDiff, valueDiff))\n",
    "    "
   ]
  },
  {
   "cell_type": "code",
   "execution_count": null,
   "metadata": {},
   "outputs": [],
   "source": [
    "class Solution:\n",
    "    def findWordsContaining(self, words: List[str], x: str) -> List[int]:\n",
    "\n",
    "        res = []\n",
    "        \n",
    "        for i in range(len(words)):\n",
    "            for i in range(len(word)):\n",
    "                if x in word[i][j]:\n",
    "                    res.append(i)\n",
    "                    break\n",
    "        return res\n",
    "     \n",
    "\n",
    "sol = Solution()\n",
    "\n",
    "words = [\"leet\", \"code\"]\n",
    "x = \"e\"\n",
    "\n",
    "print(sol.findWordsContaining(words, x))\n"
   ]
  },
  {
   "cell_type": "code",
   "execution_count": 50,
   "metadata": {},
   "outputs": [
    {
     "name": "stdout",
     "output_type": "stream",
     "text": [
      "2\n"
     ]
    }
   ],
   "source": [
    "class Solution:\n",
    "    def removeDuplicates(self, nums: List[int]) -> int:\n",
    "        index = 1\n",
    "        for i in range(1, len(nums)):\n",
    "            if nums[i] != nums[i-1]:\n",
    "                nums[index] = nums[i]\n",
    "                index +=1\n",
    "        return index\n",
    "  \n",
    "nums = [1,1,2]\n",
    "\n",
    "sol = Solution()\n",
    "\n",
    "print(sol.removeDuplicates(nums))\n",
    "        "
   ]
  }
 ],
 "metadata": {
  "kernelspec": {
   "display_name": "base",
   "language": "python",
   "name": "python3"
  },
  "language_info": {
   "codemirror_mode": {
    "name": "ipython",
    "version": 3
   },
   "file_extension": ".py",
   "mimetype": "text/x-python",
   "name": "python",
   "nbconvert_exporter": "python",
   "pygments_lexer": "ipython3",
   "version": "3.12.4"
  }
 },
 "nbformat": 4,
 "nbformat_minor": 2
}
